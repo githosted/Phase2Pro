{
 "cells": [
  {
   "cell_type": "code",
   "execution_count": 1,
   "id": "14e34482",
   "metadata": {},
   "outputs": [],
   "source": [
    "#Import packages\n",
    "import numpy as np\n",
    "import pandas as pd \n",
    "import statsmodels.api as sm\n",
    "import scipy.stats as stats\n",
    "from scipy import stats\n",
    "from statsmodels.formula.api import ols\n",
    "import matplotlib.pyplot as plt \n",
    "from matplotlib.lines import Line2D\n",
    "from sklearn.linear_model import LinearRegression\n",
    "from sklearn.metrics import mean_squared_error\n",
    "from sklearn.preprocessing import OneHotEncoder\n",
    "from sklearn.model_selection import train_test_split\n",
    "import random\n",
    "from math import sqrt\n",
    "import seaborn as sns\n",
    "plt.style.use('seaborn')"
   ]
  },
  {
   "cell_type": "code",
   "execution_count": 6,
   "id": "e03344a1",
   "metadata": {},
   "outputs": [
    {
     "name": "stdout",
     "output_type": "stream",
     "text": [
      "               id        date     price  bedrooms  bathrooms  sqft_living  \\\n",
      "0      7129300520  10/13/2014  221900.0         3       1.00         1180   \n",
      "1      6414100192   12/9/2014  538000.0         3       2.25         2570   \n",
      "2      5631500400   2/25/2015  180000.0         2       1.00          770   \n",
      "3      2487200875   12/9/2014  604000.0         4       3.00         1960   \n",
      "4      1954400510   2/18/2015  510000.0         3       2.00         1680   \n",
      "...           ...         ...       ...       ...        ...          ...   \n",
      "21592   263000018   5/21/2014  360000.0         3       2.50         1530   \n",
      "21593  6600060120   2/23/2015  400000.0         4       2.50         2310   \n",
      "21594  1523300141   6/23/2014  402101.0         2       0.75         1020   \n",
      "21595   291310100   1/16/2015  400000.0         3       2.50         1600   \n",
      "21596  1523300157  10/15/2014  325000.0         2       0.75         1020   \n",
      "\n",
      "       sqft_lot  floors  waterfront  view  ...  grade  sqft_above  \\\n",
      "0          5650     1.0         NaN   0.0  ...      7        1180   \n",
      "1          7242     2.0         0.0   0.0  ...      7        2170   \n",
      "2         10000     1.0         0.0   0.0  ...      6         770   \n",
      "3          5000     1.0         0.0   0.0  ...      7        1050   \n",
      "4          8080     1.0         0.0   0.0  ...      8        1680   \n",
      "...         ...     ...         ...   ...  ...    ...         ...   \n",
      "21592      1131     3.0         0.0   0.0  ...      8        1530   \n",
      "21593      5813     2.0         0.0   0.0  ...      8        2310   \n",
      "21594      1350     2.0         0.0   0.0  ...      7        1020   \n",
      "21595      2388     2.0         NaN   0.0  ...      8        1600   \n",
      "21596      1076     2.0         0.0   0.0  ...      7        1020   \n",
      "\n",
      "       sqft_basement yr_built  yr_renovated  zipcode      lat     long  \\\n",
      "0                0.0     1955           0.0    98178  47.5112 -122.257   \n",
      "1              400.0     1951        1991.0    98125  47.7210 -122.319   \n",
      "2                0.0     1933           NaN    98028  47.7379 -122.233   \n",
      "3              910.0     1965           0.0    98136  47.5208 -122.393   \n",
      "4                0.0     1987           0.0    98074  47.6168 -122.045   \n",
      "...              ...      ...           ...      ...      ...      ...   \n",
      "21592            0.0     2009           0.0    98103  47.6993 -122.346   \n",
      "21593            0.0     2014           0.0    98146  47.5107 -122.362   \n",
      "21594            0.0     2009           0.0    98144  47.5944 -122.299   \n",
      "21595            0.0     2004           0.0    98027  47.5345 -122.069   \n",
      "21596            0.0     2008           0.0    98144  47.5941 -122.299   \n",
      "\n",
      "       sqft_living15  sqft_lot15  \n",
      "0               1340        5650  \n",
      "1               1690        7639  \n",
      "2               2720        8062  \n",
      "3               1360        5000  \n",
      "4               1800        7503  \n",
      "...              ...         ...  \n",
      "21592           1530        1509  \n",
      "21593           1830        7200  \n",
      "21594           1020        2007  \n",
      "21595           1410        1287  \n",
      "21596           1020        1357  \n",
      "\n",
      "[21597 rows x 21 columns]\n"
     ]
    }
   ],
   "source": [
    "data = pd.read_csv('data\\\\kc_house_data.csv')\n",
    "print(data)\n"
   ]
  },
  {
   "cell_type": "code",
   "execution_count": 7,
   "id": "3227bbfa",
   "metadata": {},
   "outputs": [],
   "source": [
    "X = data.iloc[:, :-1] # Independent Variable\n",
    "y = data.iloc[:, -1] # Dependent Variable"
   ]
  },
  {
   "cell_type": "code",
   "execution_count": 9,
   "id": "a1b63921",
   "metadata": {},
   "outputs": [
    {
     "ename": "NameError",
     "evalue": "name 'Testing_Dataset' is not defined",
     "output_type": "error",
     "traceback": [
      "\u001b[1;31m---------------------------------------------------------------------------\u001b[0m",
      "\u001b[1;31mNameError\u001b[0m                                 Traceback (most recent call last)",
      "\u001b[1;32m~\\AppData\\Local\\Temp/ipykernel_14052/675760931.py\u001b[0m in \u001b[0;36m<module>\u001b[1;34m\u001b[0m\n\u001b[1;32m----> 1\u001b[1;33m \u001b[0mdata\u001b[0m\u001b[1;33m.\u001b[0m\u001b[0mcopy\u001b[0m \u001b[1;33m=\u001b[0m \u001b[0mTesting_Dataset\u001b[0m\u001b[1;33m\u001b[0m\u001b[1;33m\u001b[0m\u001b[0m\n\u001b[0m\u001b[0;32m      2\u001b[0m \u001b[0mTesting_Dataset\u001b[0m \u001b[1;33m=\u001b[0m \u001b[0mTesting_Dataset\u001b[0m\u001b[1;33m.\u001b[0m\u001b[0mdropna\u001b[0m\u001b[1;33m(\u001b[0m\u001b[1;33m)\u001b[0m\u001b[1;33m\u001b[0m\u001b[1;33m\u001b[0m\u001b[0m\n",
      "\u001b[1;31mNameError\u001b[0m: name 'Testing_Dataset' is not defined"
     ]
    }
   ],
   "source": [
    "data.copy = Testing_Dataset\n",
    "Testing_Dataset = Testing_Dataset.dropna()\n"
   ]
  },
  {
   "cell_type": "code",
   "execution_count": null,
   "id": "49691745",
   "metadata": {},
   "outputs": [],
   "source": [
    "from sklearn.linear_model import LinearRegression\n",
    "regressor = LinearRegression()\n",
    "regressor.fit(X_train, y_train)"
   ]
  },
  {
   "cell_type": "code",
   "execution_count": null,
   "id": "e67c17c7",
   "metadata": {},
   "outputs": [],
   "source": []
  }
 ],
 "metadata": {
  "kernelspec": {
   "display_name": "Python 3 (ipykernel)",
   "language": "python",
   "name": "python3"
  },
  "language_info": {
   "codemirror_mode": {
    "name": "ipython",
    "version": 3
   },
   "file_extension": ".py",
   "mimetype": "text/x-python",
   "name": "python",
   "nbconvert_exporter": "python",
   "pygments_lexer": "ipython3",
   "version": "3.9.7"
  }
 },
 "nbformat": 4,
 "nbformat_minor": 5
}
