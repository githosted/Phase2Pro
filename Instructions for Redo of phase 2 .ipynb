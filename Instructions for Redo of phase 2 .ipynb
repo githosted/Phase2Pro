{
 "cells": [
  {
   "cell_type": "code",
   "execution_count": null,
   "id": "b427c176",
   "metadata": {},
   "outputs": [],
   "source": [
    "obsjective is to predict and explore the data "
   ]
  },
  {
   "cell_type": "code",
   "execution_count": null,
   "id": "9df78776",
   "metadata": {},
   "outputs": [],
   "source": [
    "#import data set "
   ]
  },
  {
   "cell_type": "code",
   "execution_count": null,
   "id": "c754585d",
   "metadata": {},
   "outputs": [],
   "source": [
    "#shape"
   ]
  },
  {
   "cell_type": "code",
   "execution_count": null,
   "id": "ca867e62",
   "metadata": {},
   "outputs": [],
   "source": [
    "#dataframe head "
   ]
  },
  {
   "cell_type": "code",
   "execution_count": null,
   "id": "3ca793ba",
   "metadata": {},
   "outputs": [],
   "source": [
    "#explanation for removal of certain features "
   ]
  },
  {
   "cell_type": "code",
   "execution_count": null,
   "id": "62851cea",
   "metadata": {},
   "outputs": [],
   "source": [
    "no sample plot, no outliers, just plot the linear regression "
   ]
  },
  {
   "cell_type": "code",
   "execution_count": null,
   "id": "0cc06262",
   "metadata": {},
   "outputs": [],
   "source": [
    "no z score "
   ]
  },
  {
   "cell_type": "code",
   "execution_count": null,
   "id": "a4452c77",
   "metadata": {},
   "outputs": [],
   "source": [
    "Add OLS but with 3 variables that parse all (see TV Test)_ "
   ]
  },
  {
   "cell_type": "code",
   "execution_count": null,
   "id": "72d59055",
   "metadata": {},
   "outputs": [],
   "source": [
    "#Make some observations about the linear regression "
   ]
  },
  {
   "cell_type": "code",
   "execution_count": null,
   "id": "dc72e31f",
   "metadata": {},
   "outputs": [],
   "source": [
    "#change continuous and categorical data set #"
   ]
  },
  {
   "cell_type": "code",
   "execution_count": null,
   "id": "3699e11f",
   "metadata": {},
   "outputs": [],
   "source": [
    "#add a log transformation "
   ]
  },
  {
   "cell_type": "code",
   "execution_count": null,
   "id": "45e9cba5",
   "metadata": {},
   "outputs": [],
   "source": [
    "#create a dummy set 70/30 with a dff greater than 1000 "
   ]
  },
  {
   "cell_type": "code",
   "execution_count": null,
   "id": "dd973112",
   "metadata": {},
   "outputs": [],
   "source": [
    "declare variable "
   ]
  },
  {
   "cell_type": "code",
   "execution_count": null,
   "id": "76fec525",
   "metadata": {},
   "outputs": [],
   "source": [
    "run the dummy set again "
   ]
  },
  {
   "cell_type": "code",
   "execution_count": null,
   "id": "24c25821",
   "metadata": {},
   "outputs": [],
   "source": [
    "incorporate a kfold "
   ]
  },
  {
   "cell_type": "code",
   "execution_count": null,
   "id": "0b35636d",
   "metadata": {},
   "outputs": [],
   "source": [
    "use the test and train dataset "
   ]
  },
  {
   "cell_type": "code",
   "execution_count": null,
   "id": "acff5ed3",
   "metadata": {},
   "outputs": [],
   "source": [
    "cv score - discuss why they are so high "
   ]
  },
  {
   "cell_type": "code",
   "execution_count": null,
   "id": "f6ca1bf7",
   "metadata": {},
   "outputs": [],
   "source": []
  },
  {
   "cell_type": "code",
   "execution_count": null,
   "id": "2f10ec86",
   "metadata": {},
   "outputs": [],
   "source": []
  },
  {
   "cell_type": "code",
   "execution_count": null,
   "id": "502e9c6e",
   "metadata": {},
   "outputs": [],
   "source": []
  },
  {
   "cell_type": "code",
   "execution_count": null,
   "id": "3daf4da8",
   "metadata": {},
   "outputs": [],
   "source": []
  },
  {
   "cell_type": "code",
   "execution_count": null,
   "id": "458bd3e2",
   "metadata": {},
   "outputs": [],
   "source": []
  },
  {
   "cell_type": "code",
   "execution_count": null,
   "id": "2b154e30",
   "metadata": {},
   "outputs": [],
   "source": []
  },
  {
   "cell_type": "code",
   "execution_count": null,
   "id": "127b4f73",
   "metadata": {},
   "outputs": [],
   "source": []
  },
  {
   "cell_type": "code",
   "execution_count": null,
   "id": "5426857e",
   "metadata": {},
   "outputs": [],
   "source": []
  },
  {
   "cell_type": "code",
   "execution_count": null,
   "id": "49066e95",
   "metadata": {},
   "outputs": [],
   "source": []
  },
  {
   "cell_type": "code",
   "execution_count": null,
   "id": "b0e7c909",
   "metadata": {},
   "outputs": [],
   "source": []
  },
  {
   "cell_type": "code",
   "execution_count": null,
   "id": "5acea01c",
   "metadata": {},
   "outputs": [],
   "source": []
  },
  {
   "cell_type": "code",
   "execution_count": null,
   "id": "03d38b8c",
   "metadata": {},
   "outputs": [],
   "source": []
  },
  {
   "cell_type": "code",
   "execution_count": null,
   "id": "a71d4c5f",
   "metadata": {},
   "outputs": [],
   "source": []
  },
  {
   "cell_type": "code",
   "execution_count": null,
   "id": "41a905ec",
   "metadata": {},
   "outputs": [],
   "source": []
  },
  {
   "cell_type": "code",
   "execution_count": null,
   "id": "6d9b0a23",
   "metadata": {},
   "outputs": [],
   "source": []
  },
  {
   "cell_type": "code",
   "execution_count": null,
   "id": "3220a111",
   "metadata": {},
   "outputs": [],
   "source": []
  },
  {
   "cell_type": "code",
   "execution_count": null,
   "id": "99963647",
   "metadata": {},
   "outputs": [],
   "source": []
  },
  {
   "cell_type": "code",
   "execution_count": null,
   "id": "ed0075f7",
   "metadata": {},
   "outputs": [],
   "source": []
  },
  {
   "cell_type": "code",
   "execution_count": null,
   "id": "cde1cd65",
   "metadata": {},
   "outputs": [],
   "source": []
  },
  {
   "cell_type": "code",
   "execution_count": null,
   "id": "c91f5e90",
   "metadata": {},
   "outputs": [],
   "source": []
  },
  {
   "cell_type": "code",
   "execution_count": null,
   "id": "a6abf729",
   "metadata": {},
   "outputs": [],
   "source": []
  },
  {
   "cell_type": "code",
   "execution_count": null,
   "id": "eaaaba43",
   "metadata": {},
   "outputs": [],
   "source": []
  },
  {
   "cell_type": "code",
   "execution_count": null,
   "id": "a6f57c43",
   "metadata": {},
   "outputs": [],
   "source": []
  }
 ],
 "metadata": {
  "kernelspec": {
   "display_name": "Python 3 (ipykernel)",
   "language": "python",
   "name": "python3"
  },
  "language_info": {
   "codemirror_mode": {
    "name": "ipython",
    "version": 3
   },
   "file_extension": ".py",
   "mimetype": "text/x-python",
   "name": "python",
   "nbconvert_exporter": "python",
   "pygments_lexer": "ipython3",
   "version": "3.9.7"
  }
 },
 "nbformat": 4,
 "nbformat_minor": 5
}
