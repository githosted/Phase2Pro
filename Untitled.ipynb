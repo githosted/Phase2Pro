{
 "cells": [
  {
   "cell_type": "code",
   "execution_count": 1,
   "id": "b51b2e84",
   "metadata": {},
   "outputs": [],
   "source": [
    "#Import lIbraries \n",
    "import numpy as np\n",
    "import pandas as pd "
   ]
  },
  {
   "cell_type": "code",
   "execution_count": 2,
   "id": "657a3cd7",
   "metadata": {},
   "outputs": [],
   "source": [
    "#Import data set \n",
    "df = pd.read_csv('data\\\\kc_house_data.csv')"
   ]
  },
  {
   "cell_type": "code",
   "execution_count": 4,
   "id": "02da7add",
   "metadata": {},
   "outputs": [],
   "source": [
    "#drop unnecessary column data\n",
    "df.drop(['id', 'date', 'waterfront', 'sqft_above', 'sqft_basement', 'lat', 'long', 'view', 'sqft_living15', 'sqft_lot15', 'yr_renovated'], axis=1, inplace=True)"
   ]
  },
  {
   "cell_type": "code",
   "execution_count": 6,
   "id": "483a97df",
   "metadata": {},
   "outputs": [
    {
     "data": {
      "text/html": [
       "<div>\n",
       "<style scoped>\n",
       "    .dataframe tbody tr th:only-of-type {\n",
       "        vertical-align: middle;\n",
       "    }\n",
       "\n",
       "    .dataframe tbody tr th {\n",
       "        vertical-align: top;\n",
       "    }\n",
       "\n",
       "    .dataframe thead th {\n",
       "        text-align: right;\n",
       "    }\n",
       "</style>\n",
       "<table border=\"1\" class=\"dataframe\">\n",
       "  <thead>\n",
       "    <tr style=\"text-align: right;\">\n",
       "      <th></th>\n",
       "      <th>price</th>\n",
       "      <th>bedrooms</th>\n",
       "      <th>bathrooms</th>\n",
       "      <th>sqft_living</th>\n",
       "      <th>sqft_lot</th>\n",
       "      <th>floors</th>\n",
       "      <th>condition</th>\n",
       "      <th>grade</th>\n",
       "      <th>yr_built</th>\n",
       "      <th>zipcode</th>\n",
       "    </tr>\n",
       "  </thead>\n",
       "  <tbody>\n",
       "    <tr>\n",
       "      <th>0</th>\n",
       "      <td>221900.0</td>\n",
       "      <td>3</td>\n",
       "      <td>1.00</td>\n",
       "      <td>1180</td>\n",
       "      <td>5650</td>\n",
       "      <td>1.0</td>\n",
       "      <td>3</td>\n",
       "      <td>7</td>\n",
       "      <td>1955</td>\n",
       "      <td>98178</td>\n",
       "    </tr>\n",
       "    <tr>\n",
       "      <th>1</th>\n",
       "      <td>538000.0</td>\n",
       "      <td>3</td>\n",
       "      <td>2.25</td>\n",
       "      <td>2570</td>\n",
       "      <td>7242</td>\n",
       "      <td>2.0</td>\n",
       "      <td>3</td>\n",
       "      <td>7</td>\n",
       "      <td>1951</td>\n",
       "      <td>98125</td>\n",
       "    </tr>\n",
       "    <tr>\n",
       "      <th>2</th>\n",
       "      <td>180000.0</td>\n",
       "      <td>2</td>\n",
       "      <td>1.00</td>\n",
       "      <td>770</td>\n",
       "      <td>10000</td>\n",
       "      <td>1.0</td>\n",
       "      <td>3</td>\n",
       "      <td>6</td>\n",
       "      <td>1933</td>\n",
       "      <td>98028</td>\n",
       "    </tr>\n",
       "    <tr>\n",
       "      <th>3</th>\n",
       "      <td>604000.0</td>\n",
       "      <td>4</td>\n",
       "      <td>3.00</td>\n",
       "      <td>1960</td>\n",
       "      <td>5000</td>\n",
       "      <td>1.0</td>\n",
       "      <td>5</td>\n",
       "      <td>7</td>\n",
       "      <td>1965</td>\n",
       "      <td>98136</td>\n",
       "    </tr>\n",
       "    <tr>\n",
       "      <th>4</th>\n",
       "      <td>510000.0</td>\n",
       "      <td>3</td>\n",
       "      <td>2.00</td>\n",
       "      <td>1680</td>\n",
       "      <td>8080</td>\n",
       "      <td>1.0</td>\n",
       "      <td>3</td>\n",
       "      <td>8</td>\n",
       "      <td>1987</td>\n",
       "      <td>98074</td>\n",
       "    </tr>\n",
       "  </tbody>\n",
       "</table>\n",
       "</div>"
      ],
      "text/plain": [
       "      price  bedrooms  bathrooms  sqft_living  sqft_lot  floors  condition  \\\n",
       "0  221900.0         3       1.00         1180      5650     1.0          3   \n",
       "1  538000.0         3       2.25         2570      7242     2.0          3   \n",
       "2  180000.0         2       1.00          770     10000     1.0          3   \n",
       "3  604000.0         4       3.00         1960      5000     1.0          5   \n",
       "4  510000.0         3       2.00         1680      8080     1.0          3   \n",
       "\n",
       "   grade  yr_built  zipcode  \n",
       "0      7      1955    98178  \n",
       "1      7      1951    98125  \n",
       "2      6      1933    98028  \n",
       "3      7      1965    98136  \n",
       "4      8      1987    98074  "
      ]
     },
     "execution_count": 6,
     "metadata": {},
     "output_type": "execute_result"
    }
   ],
   "source": [
    "df.head()"
   ]
  },
  {
   "cell_type": "markdown",
   "id": "2e638e2d",
   "metadata": {},
   "source": [
    "#define x & y\n",
    "x = df.drop(['price']),axis=1.values\n",
    "y = df['price'].values\n",
    "\n",
    "X = preprocessed.drop('price_log', axis=1)\n",
    "y = preprocessed['price_log']\n",
    "\n"
   ]
  },
  {
   "cell_type": "code",
   "execution_count": null,
   "id": "ec7a2859",
   "metadata": {},
   "outputs": [],
   "source": [
    "continuous = ['price', 'sqft_lot', 'sqft_living']\n",
    "categoricals = ['bedrooms', 'bathrooms', 'floors', 'condition','yr_built', 'zipcode', 'grade']\n",
    "data_cont = data[continuous]"
   ]
  },
  {
   "cell_type": "code",
   "execution_count": null,
   "id": "1cbb0426",
   "metadata": {},
   "outputs": [],
   "source": [
    "#creating duimmy data\n",
    "pd.get_dummies(data)\n",
    "#declaring categorical dummy data \n",
    "data_ohe = pd.get_dummies(data[categoricals], drop_first=True)\n",
    "# one hot encode (ohe)categoricals\n",
    "data_ohe = pd.get_dummies(data[categoricals], prefix=categoricals[0], drop_first=True)\n",
    "preprocessed = pd.concat([data_log_norm, data_ohe], axis=1)\n",
    "X = preprocessed.drop('grade', axis=1)\n",
    "y = preprocessed['grade']"
   ]
  },
  {
   "cell_type": "code",
   "execution_count": null,
   "id": "3bb83154",
   "metadata": {},
   "outputs": [],
   "source": []
  },
  {
   "cell_type": "code",
   "execution_count": null,
   "id": "ebecd356",
   "metadata": {},
   "outputs": [],
   "source": [
    "split the data set in training set and test set "
   ]
  },
  {
   "cell_type": "code",
   "execution_count": null,
   "id": "c4113868",
   "metadata": {},
   "outputs": [],
   "source": [
    "Train the model on the training set "
   ]
  },
  {
   "cell_type": "code",
   "execution_count": null,
   "id": "342543fc",
   "metadata": {},
   "outputs": [],
   "source": [
    "Predict the test set results "
   ]
  },
  {
   "cell_type": "code",
   "execution_count": null,
   "id": "80ba939f",
   "metadata": {},
   "outputs": [],
   "source": [
    "Evaluate the model"
   ]
  },
  {
   "cell_type": "code",
   "execution_count": null,
   "id": "1ccaa85c",
   "metadata": {},
   "outputs": [],
   "source": [
    "Plot the results "
   ]
  },
  {
   "cell_type": "code",
   "execution_count": null,
   "id": "7c0f0e43",
   "metadata": {},
   "outputs": [],
   "source": [
    "Predicted values "
   ]
  }
 ],
 "metadata": {
  "kernelspec": {
   "display_name": "Python 3 (ipykernel)",
   "language": "python",
   "name": "python3"
  },
  "language_info": {
   "codemirror_mode": {
    "name": "ipython",
    "version": 3
   },
   "file_extension": ".py",
   "mimetype": "text/x-python",
   "name": "python",
   "nbconvert_exporter": "python",
   "pygments_lexer": "ipython3",
   "version": "3.9.7"
  }
 },
 "nbformat": 4,
 "nbformat_minor": 5
}
