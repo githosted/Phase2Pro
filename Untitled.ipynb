{
 "cells": [
  {
   "cell_type": "code",
   "execution_count": 2,
   "id": "965e65e1",
   "metadata": {},
   "outputs": [
    {
     "ename": "IndentationError",
     "evalue": "unindent does not match any outer indentation level (<tokenize>, line 47)",
     "output_type": "error",
     "traceback": [
      "\u001b[1;36m  File \u001b[1;32m\"<tokenize>\"\u001b[1;36m, line \u001b[1;32m47\u001b[0m\n\u001b[1;33m    ax.yaxis.set_major_locator(ticker.MultipleLocator(10))\u001b[0m\n\u001b[1;37m    ^\u001b[0m\n\u001b[1;31mIndentationError\u001b[0m\u001b[1;31m:\u001b[0m unindent does not match any outer indentation level\n"
     ]
    }
   ],
   "source": [
    "import numpy as np\n",
    "import pandas as pd\n",
    "import matplotlib.pyplot as plt\n",
    "import seaborn as sns\n",
    "sns.set_style(\"white\")\n",
    "\n",
    "a,b,c,d = [],[],[],[]\n",
    "\n",
    "for i in range(1,5):\n",
    "   np.random.seed(i)\n",
    "   a.append(np.random.uniform(35,55))\n",
    "   b.append(np.random.uniform(40,70))\n",
    "   c.append(np.random.uniform(63,85))\n",
    "   d.append(np.random.uniform(59,80))\n",
    "\n",
    "data_df =pd.DataFrame({'stages':[1,2,3,4],'S1':a,'S2':b,'S3':c,'S4':d})\n",
    "print(\"Delay:\")\n",
    "\n",
    "display(data_df)\n",
    "\n",
    "          S1         S2         S3         S4\n",
    "0  43.340440  61.609735  63.002516  65.348984\n",
    "1  43.719898  40.777787  75.092575  68.141770\n",
    "2  46.015958  61.244435  69.399904  69.727380\n",
    "3  54.340597  56.416967  84.399056  74.011136\n",
    "\n",
    "meansd_df=data_df.describe().loc[['mean', 'std'],:].drop('stages', axis = 1)\n",
    "display(meansd_df)\n",
    "\n",
    "sns.set()\n",
    "sns.set_style('darkgrid',{\"axes.facecolor\": \".92\"}) # (1)\n",
    "sns.set_context('notebook')\n",
    "fig, ax = plt.subplots(figsize = (8,6))\n",
    "\n",
    "x = meansd_df.columns\n",
    "y = meansd_df.loc['mean',:]\n",
    "yerr = meansd_df.loc['std',:]\n",
    "plt.xlabel(\"Time\", size=14)\n",
    "plt.ylim(-0.3, 100)\n",
    "width = 0.45\n",
    "\n",
    "for i, j,k in zip(x,y,yerr): # (2)\n",
    "       ax.bar(i,j, width, yerr = k, edgecolor = \"black\",\n",
    "          error_kw=dict(lw=1, capsize=8, capthick=1))  #  (3)\n",
    "        ax.set(ylabel = 'Delay')\n",
    "         from matplotlib import ticker\n",
    "     ax.yaxis.set_major_locator(ticker.MultipleLocator(10)) \n",
    "     plt.savefig(\"Over.png\", dpi=300, bbox_inches='tight')"
   ]
  },
  {
   "cell_type": "code",
   "execution_count": null,
   "id": "27cd71d0",
   "metadata": {},
   "outputs": [],
   "source": []
  },
  {
   "cell_type": "code",
   "execution_count": null,
   "id": "cfe336e0",
   "metadata": {},
   "outputs": [],
   "source": []
  }
 ],
 "metadata": {
  "kernelspec": {
   "display_name": "Python 3 (ipykernel)",
   "language": "python",
   "name": "python3"
  },
  "language_info": {
   "codemirror_mode": {
    "name": "ipython",
    "version": 3
   },
   "file_extension": ".py",
   "mimetype": "text/x-python",
   "name": "python",
   "nbconvert_exporter": "python",
   "pygments_lexer": "ipython3",
   "version": "3.9.7"
  }
 },
 "nbformat": 4,
 "nbformat_minor": 5
}
