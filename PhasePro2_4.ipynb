{
 "cells": [
  {
   "cell_type": "code",
   "execution_count": 1,
   "id": "04814475",
   "metadata": {},
   "outputs": [],
   "source": [
    "##Calculated MSE, Cross Validation Test, Regression Model Validation, Normalize with Categoricals"
   ]
  },
  {
   "cell_type": "code",
   "execution_count": 1,
   "id": "a86b8bbe",
   "metadata": {},
   "outputs": [],
   "source": [
    "##Calculated MSE, Cross Validation Test, Regression Model Validation, Normalize with Categoricals"
   ]
  },
  {
   "cell_type": "code",
   "execution_count": 2,
   "id": "2471bc67",
   "metadata": {},
   "outputs": [],
   "source": [
    "#import packages\n",
    "import pandas as pd\n",
    "import numpy as np\n",
    "import matplotlib.pyplot as plt\n",
    "import logging\n",
    "from sklearn.preprocessing import OneHotEncoder\n",
    "from statsmodels.formula.api import ols\n",
    "%matplotlib inline\n",
    "\n",
    "df = pd.read_csv('data\\\\kc_house_data.csv')\n",
    "#refined dataset to drop unnecessary column data\n",
    "df.drop(['id', 'date', 'waterfront', 'sqft_above', 'sqft_basement', 'lat', 'long', 'view', 'sqft_living15', 'sqft_lot15', 'waterfront', 'yr_renovated'], axis=1, inplace=True)\n",
    "#incorporated lamda to reduce exponential value occurence\n",
    "pd.options.display.float_format = lambda x : '{:.0f}'.format(x) if int(x) == x else '{:,.2f}'.format(x) "
   ]
  },
  {
   "cell_type": "code",
   "execution_count": 3,
   "id": "202a636c",
   "metadata": {},
   "outputs": [],
   "source": [
    "#create the column data\n",
    "continuous = ['price', 'bedrooms', 'bathrooms', 'grade']\n",
    "categoricals = ['sqft_living', 'sqft_lot', 'yr_built', 'zipcode', 'floors', 'condition']\n",
    "df_cont = df[continuous]"
   ]
  },
  {
   "cell_type": "code",
   "execution_count": 4,
   "id": "b674aa9f",
   "metadata": {},
   "outputs": [],
   "source": [
    "# log features\n",
    "log_names = [f'{column}_log' for column in df_cont.columns]\n",
    "df_log = np.log(df_cont)\n",
    "df_log.columns = log_names"
   ]
  },
  {
   "cell_type": "code",
   "execution_count": 5,
   "id": "3e53697b",
   "metadata": {},
   "outputs": [
    {
     "data": {
      "text/html": [
       "<div>\n",
       "<style scoped>\n",
       "    .dataframe tbody tr th:only-of-type {\n",
       "        vertical-align: middle;\n",
       "    }\n",
       "\n",
       "    .dataframe tbody tr th {\n",
       "        vertical-align: top;\n",
       "    }\n",
       "\n",
       "    .dataframe thead th {\n",
       "        text-align: right;\n",
       "    }\n",
       "</style>\n",
       "<table border=\"1\" class=\"dataframe\">\n",
       "  <thead>\n",
       "    <tr style=\"text-align: right;\">\n",
       "      <th></th>\n",
       "      <th>price</th>\n",
       "      <th>bedrooms</th>\n",
       "      <th>bathrooms</th>\n",
       "      <th>sqft_living</th>\n",
       "      <th>sqft_lot</th>\n",
       "      <th>floors</th>\n",
       "      <th>condition</th>\n",
       "      <th>grade</th>\n",
       "      <th>yr_built</th>\n",
       "      <th>zipcode</th>\n",
       "    </tr>\n",
       "  </thead>\n",
       "  <tbody>\n",
       "    <tr>\n",
       "      <th>count</th>\n",
       "      <td>21597</td>\n",
       "      <td>21597</td>\n",
       "      <td>21597</td>\n",
       "      <td>21597</td>\n",
       "      <td>21597</td>\n",
       "      <td>21597</td>\n",
       "      <td>21597</td>\n",
       "      <td>21597</td>\n",
       "      <td>21597</td>\n",
       "      <td>21597</td>\n",
       "    </tr>\n",
       "    <tr>\n",
       "      <th>mean</th>\n",
       "      <td>540,296.57</td>\n",
       "      <td>3.37</td>\n",
       "      <td>2.12</td>\n",
       "      <td>2,080.32</td>\n",
       "      <td>15,099.41</td>\n",
       "      <td>1.49</td>\n",
       "      <td>3.41</td>\n",
       "      <td>7.66</td>\n",
       "      <td>1,971.00</td>\n",
       "      <td>98,077.95</td>\n",
       "    </tr>\n",
       "    <tr>\n",
       "      <th>std</th>\n",
       "      <td>367,368.14</td>\n",
       "      <td>0.93</td>\n",
       "      <td>0.77</td>\n",
       "      <td>918.11</td>\n",
       "      <td>41,412.64</td>\n",
       "      <td>0.54</td>\n",
       "      <td>0.65</td>\n",
       "      <td>1.17</td>\n",
       "      <td>29.38</td>\n",
       "      <td>53.51</td>\n",
       "    </tr>\n",
       "    <tr>\n",
       "      <th>min</th>\n",
       "      <td>78000</td>\n",
       "      <td>1</td>\n",
       "      <td>0.50</td>\n",
       "      <td>370</td>\n",
       "      <td>520</td>\n",
       "      <td>1</td>\n",
       "      <td>1</td>\n",
       "      <td>3</td>\n",
       "      <td>1900</td>\n",
       "      <td>98001</td>\n",
       "    </tr>\n",
       "    <tr>\n",
       "      <th>25%</th>\n",
       "      <td>322000</td>\n",
       "      <td>3</td>\n",
       "      <td>1.75</td>\n",
       "      <td>1430</td>\n",
       "      <td>5040</td>\n",
       "      <td>1</td>\n",
       "      <td>3</td>\n",
       "      <td>7</td>\n",
       "      <td>1951</td>\n",
       "      <td>98033</td>\n",
       "    </tr>\n",
       "    <tr>\n",
       "      <th>50%</th>\n",
       "      <td>450000</td>\n",
       "      <td>3</td>\n",
       "      <td>2.25</td>\n",
       "      <td>1910</td>\n",
       "      <td>7618</td>\n",
       "      <td>1.50</td>\n",
       "      <td>3</td>\n",
       "      <td>7</td>\n",
       "      <td>1975</td>\n",
       "      <td>98065</td>\n",
       "    </tr>\n",
       "    <tr>\n",
       "      <th>75%</th>\n",
       "      <td>645000</td>\n",
       "      <td>4</td>\n",
       "      <td>2.50</td>\n",
       "      <td>2550</td>\n",
       "      <td>10685</td>\n",
       "      <td>2</td>\n",
       "      <td>4</td>\n",
       "      <td>8</td>\n",
       "      <td>1997</td>\n",
       "      <td>98118</td>\n",
       "    </tr>\n",
       "    <tr>\n",
       "      <th>max</th>\n",
       "      <td>7700000</td>\n",
       "      <td>33</td>\n",
       "      <td>8</td>\n",
       "      <td>13540</td>\n",
       "      <td>1651359</td>\n",
       "      <td>3.50</td>\n",
       "      <td>5</td>\n",
       "      <td>13</td>\n",
       "      <td>2015</td>\n",
       "      <td>98199</td>\n",
       "    </tr>\n",
       "  </tbody>\n",
       "</table>\n",
       "</div>"
      ],
      "text/plain": [
       "           price  bedrooms  bathrooms  sqft_living  sqft_lot  floors  \\\n",
       "count      21597     21597      21597        21597     21597   21597   \n",
       "mean  540,296.57      3.37       2.12     2,080.32 15,099.41    1.49   \n",
       "std   367,368.14      0.93       0.77       918.11 41,412.64    0.54   \n",
       "min        78000         1       0.50          370       520       1   \n",
       "25%       322000         3       1.75         1430      5040       1   \n",
       "50%       450000         3       2.25         1910      7618    1.50   \n",
       "75%       645000         4       2.50         2550     10685       2   \n",
       "max      7700000        33          8        13540   1651359    3.50   \n",
       "\n",
       "       condition  grade  yr_built   zipcode  \n",
       "count      21597  21597     21597     21597  \n",
       "mean        3.41   7.66  1,971.00 98,077.95  \n",
       "std         0.65   1.17     29.38     53.51  \n",
       "min            1      3      1900     98001  \n",
       "25%            3      7      1951     98033  \n",
       "50%            3      7      1975     98065  \n",
       "75%            4      8      1997     98118  \n",
       "max            5     13      2015     98199  "
      ]
     },
     "execution_count": 5,
     "metadata": {},
     "output_type": "execute_result"
    }
   ],
   "source": [
    "df.describe()"
   ]
  },
  {
   "cell_type": "code",
   "execution_count": 6,
   "id": "fb0227d2",
   "metadata": {},
   "outputs": [],
   "source": [
    "# normalize (subract mean and divide by std)\n",
    "def normalize(feature):\n",
    "    return (feature - feature.mean()) / feature.std()\n",
    "df_log_norm = df_log.apply(normalize)"
   ]
  },
  {
   "cell_type": "code",
   "execution_count": 7,
   "id": "8c31f108",
   "metadata": {},
   "outputs": [],
   "source": [
    "# one hot encode categoricals\n",
    "df_ohe = pd.get_dummies(df[categoricals], prefix=categoricals[0], drop_first=True)\n",
    "preprocessed = pd.concat([df_log_norm, df_ohe], axis=1)\n",
    "X = preprocessed.drop('sqft_living', axis=1)\n",
    "y = preprocessed['sqft_living']"
   ]
  },
  {
   "cell_type": "code",
   "execution_count": 8,
   "id": "b0abc539",
   "metadata": {},
   "outputs": [],
   "source": [
    "from sklearn.model_selection import train_test_split"
   ]
  },
  {
   "cell_type": "code",
   "execution_count": 9,
   "id": "d8ec34d5",
   "metadata": {},
   "outputs": [],
   "source": [
    "# Split the data into training and test sets (assign 20% to test set)\n",
    "X_train, X_test, y_train, y_test = train_test_split(X, y, test_size=0.20)"
   ]
  },
  {
   "cell_type": "code",
   "execution_count": 10,
   "id": "8a84d342",
   "metadata": {},
   "outputs": [
    {
     "name": "stdout",
     "output_type": "stream",
     "text": [
      "17277 4320 17277 4320\n"
     ]
    }
   ],
   "source": [
    "# A brief preview of train-test split\n",
    "print(len(X_train), len(X_test), len(y_train), len(y_test))"
   ]
  },
  {
   "cell_type": "code",
   "execution_count": 11,
   "id": "eab0f99e",
   "metadata": {},
   "outputs": [],
   "source": [
    "#apply model to the train set \n",
    "from sklearn.linear_model import LinearRegression\n",
    "linreg = LinearRegression()\n",
    "linreg.fit(X_train, y_train)\n",
    "y_hat_test = linreg.predict(X_test)"
   ]
  },
  {
   "cell_type": "code",
   "execution_count": 12,
   "id": "b0b3ead1",
   "metadata": {},
   "outputs": [
    {
     "data": {
      "text/plain": [
       "249060.48086378496"
      ]
     },
     "execution_count": 12,
     "metadata": {},
     "output_type": "execute_result"
    }
   ],
   "source": [
    "#calculate training and test MSE\n",
    "from sklearn.metrics import mean_squared_error\n",
    "test_residuals = y_hat_test - y_test\n",
    "test_mse = mean_squared_error(y_test, y_hat_test)\n",
    "test_mse"
   ]
  },
  {
   "cell_type": "code",
   "execution_count": 13,
   "id": "7c0f773e",
   "metadata": {},
   "outputs": [],
   "source": [
    "def kfolds(data, k):\n",
    "    # Force data as pandas DataFrame\n",
    "    data = pd.DataFrame(data)\n",
    "    num_observations = len(data)\n",
    "    fold_size = num_observations//k\n",
    "    leftovers = num_observations%k\n",
    "    folds = []\n",
    "    start_obs = 0\n",
    "    for fold_n in range(1,k+1):\n",
    "        if fold_n <= leftovers:\n",
    "            #Fold Size will be 1 larger to account for leftovers\n",
    "            fold =  data.iloc[start_obs : start_obs+fold_size+1] \n",
    "            folds.append(fold)\n",
    "            start_obs +=  fold_size + 1\n",
    "        else:\n",
    "            fold =  data.iloc[start_obs : start_obs+fold_size] \n",
    "            folds.append(fold)\n",
    "            start_obs +=  fold_size          \n",
    "    return folds "
   ]
  },
  {
   "cell_type": "code",
   "execution_count": 14,
   "id": "edf5153f",
   "metadata": {},
   "outputs": [],
   "source": [
    "df_data = pd.concat([X.reset_index(drop=True), y], axis=1)\n"
   ]
  },
  {
   "cell_type": "code",
   "execution_count": 15,
   "id": "4935a993",
   "metadata": {},
   "outputs": [],
   "source": [
    "df_folds = kfolds(df_data, 5)"
   ]
  },
  {
   "cell_type": "code",
   "execution_count": 16,
   "id": "b3d0a190",
   "metadata": {},
   "outputs": [
    {
     "name": "stdout",
     "output_type": "stream",
     "text": [
      "[216855.35001900673, 216855.35001900673, 216855.35001900673, 216855.35001900673, 216855.35001900673]\n",
      "[249060.48086378459, 249060.48086378459, 249060.48086378459, 249060.48086378459, 249060.48086378459]\n"
     ]
    }
   ],
   "source": [
    "test_errs = []\n",
    "train_errs = []\n",
    "k=5\n",
    "for n in range(k):\n",
    "    # Split in train and test for the fold\n",
    "    train = pd.concat([fold for i, fold in enumerate(df_folds) if i!=n])\n",
    "    test = df_folds[n]\n",
    "    # Fit a linear regression model\n",
    "    linreg.fit(X_train, y_train)\n",
    "    #Evaluate Train and Test Errors\n",
    "    y_hat_train = linreg.predict(X_train)\n",
    "    y_hat_test = linreg.predict(X_test)\n",
    "    train_residuals = y_hat_train - y_train\n",
    "    test_residuals = y_hat_test - y_test\n",
    "    train_errs.append(np.mean(train_residuals.astype(float)**2))\n",
    "    test_errs.append(np.mean(test_residuals.astype(float)**2))\n",
    "print(train_errs)\n",
    "print(test_errs)"
   ]
  },
  {
   "cell_type": "code",
   "execution_count": 17,
   "id": "fc91cfd7",
   "metadata": {},
   "outputs": [],
   "source": [
    "from sklearn.metrics import mean_squared_error, make_scorer\n",
    "from sklearn.model_selection import cross_val_score\n",
    "mse = make_scorer(mean_squared_error)\n",
    "cv_5_results = cross_val_score(linreg, X, y, cv=5, scoring=mse)"
   ]
  },
  {
   "cell_type": "code",
   "execution_count": 18,
   "id": "76c92f40",
   "metadata": {},
   "outputs": [
    {
     "data": {
      "text/plain": [
       "226852.97450995035"
      ]
     },
     "execution_count": 18,
     "metadata": {},
     "output_type": "execute_result"
    }
   ],
   "source": [
    "cv_5_results.mean()"
   ]
  },
  {
   "cell_type": "code",
   "execution_count": 19,
   "id": "e091ea81",
   "metadata": {},
   "outputs": [
    {
     "data": {
      "text/plain": [
       "<matplotlib.legend.Legend at 0x2150265a2b0>"
      ]
     },
     "execution_count": 19,
     "metadata": {},
     "output_type": "execute_result"
    },
    {
     "data": {
      "image/png": "[encoded data removed]",
      "text/plain": [
       "<Figure size 432x288 with 1 Axes>"
      ]
     },
     "metadata": {
      "needs_background": "light"
     },
     "output_type": "display_data"
    }
   ],
   "source": [
    "import random\n",
    "random.seed(110)\n",
    "\n",
    "train_err = []\n",
    "test_err = []\n",
    "t_sizes = list(range(5,100,5))\n",
    "for t_size in t_sizes:\n",
    "    X_train, X_test, y_train, y_test = train_test_split(X, y, test_size=t_size/100)\n",
    "    linreg.fit(X_train, y_train)\n",
    "    y_hat_train = linreg.predict(X_train)\n",
    "    y_hat_test = linreg.predict(X_test)\n",
    "    train_err.append(mean_squared_error(y_train, y_hat_train))\n",
    "    test_err.append(mean_squared_error(y_test, y_hat_test))\n",
    "plt.scatter(t_sizes, train_err, label='Training Error')\n",
    "plt.scatter(t_sizes, test_err, label='Testing Error')\n",
    "plt.legend()"
   ]
  },
  {
   "cell_type": "code",
   "execution_count": 20,
   "id": "304193fe",
   "metadata": {},
   "outputs": [
    {
     "data": {
      "text/plain": [
       "<matplotlib.legend.Legend at 0x21502776a00>"
      ]
     },
     "execution_count": 20,
     "metadata": {},
     "output_type": "execute_result"
    },
    {
     "data": {
      "image/png": "[encoded data removed]",
      "text/plain": [
       "<Figure size 432x288 with 1 Axes>"
      ]
     },
     "metadata": {
      "needs_background": "light"
     },
     "output_type": "display_data"
    }
   ],
   "source": [
    "# Your code here\n",
    "random.seed(900)\n",
    "\n",
    "train_err = []\n",
    "test_err = []\n",
    "t_sizes = range(5,100,5)\n",
    "for t_size in t_sizes:\n",
    "    temp_train_err = []\n",
    "    temp_test_err = []\n",
    "    for i in range(10):\n",
    "        X_train, X_test, y_train, y_test = train_test_split(X, y, test_size=t_size/100)\n",
    "        linreg.fit(X_train, y_train)\n",
    "        y_hat_train = linreg.predict(X_train)\n",
    "        y_hat_test = linreg.predict(X_test)\n",
    "        temp_train_err.append(mean_squared_error(y_train, y_hat_train))\n",
    "        temp_test_err.append(mean_squared_error(y_test, y_hat_test))\n",
    "    train_err.append(np.mean(temp_train_err))\n",
    "    test_err.append(np.mean(temp_test_err))\n",
    "plt.scatter(t_sizes, train_err, label='Training Error')\n",
    "plt.scatter(t_sizes, test_err, label='Testing Error')\n",
    "plt.legend()"
   ]
  },
  {
   "cell_type": "code",
   "execution_count": null,
   "id": "8c3fde50",
   "metadata": {},
   "outputs": [],
   "source": []
  }
 ],
 "metadata": {
  "kernelspec": {
   "display_name": "Python 3 (ipykernel)",
   "language": "python",
   "name": "python3"
  },
  "language_info": {
   "codemirror_mode": {
    "name": "ipython",
    "version": 3
   },
   "file_extension": ".py",
   "mimetype": "text/x-python",
   "name": "python",
   "nbconvert_exporter": "python",
   "pygments_lexer": "ipython3",
   "version": "3.9.7"
  }
 },
 "nbformat": 4,
 "nbformat_minor": 5
}
